{
 "cells": [
  {
   "cell_type": "code",
   "execution_count": 1,
   "id": "1403eba3",
   "metadata": {},
   "outputs": [],
   "source": [
    "import sqlite3\n",
    "from datetime import datetime, timedelta"
   ]
  },
  {
   "cell_type": "code",
   "execution_count": null,
   "id": "fe361cba",
   "metadata": {},
   "outputs": [],
   "source": [
    "START_TIME = datetime(2025, 5, 3, 14, 35, 52)\n",
    "\n",
    "conn = sqlite3.connect(\"data_log.db\")\n",
    "cursor = conn.cursor()"
   ]
  },
  {
   "cell_type": "code",
   "execution_count": null,
   "id": "4d5a4d7f",
   "metadata": {},
   "outputs": [],
   "source": [
    "# Fetch rowids in insertion order\n",
    "cursor.execute(\"SELECT rowid FROM data_log ORDER BY rowid\")\n",
    "rows = cursor.fetchall()\n",
    "\n",
    "# Update each row with the computed timestamp\n",
    "for index, (rowid,) in enumerate(rows):\n",
    "    new_ts = START_TIME + timedelta(seconds=3 * index)\n",
    "    cursor.execute(\"UPDATE data_log SET timestamp = ? WHERE rowid = ?\", (new_ts.strftime('%Y-%m-%d %H:%M:%S'), rowid))\n"
   ]
  },
  {
   "cell_type": "code",
   "execution_count": null,
   "id": "da087761",
   "metadata": {},
   "outputs": [],
   "source": [
    "conn.commit()\n",
    "conn.close()"
   ]
  }
 ],
 "metadata": {
  "kernelspec": {
   "display_name": "Python 3",
   "language": "python",
   "name": "python3"
  },
  "language_info": {
   "codemirror_mode": {
    "name": "ipython",
    "version": 3
   },
   "file_extension": ".py",
   "mimetype": "text/x-python",
   "name": "python",
   "nbconvert_exporter": "python",
   "pygments_lexer": "ipython3",
   "version": "3.11.3"
  }
 },
 "nbformat": 4,
 "nbformat_minor": 5
}
