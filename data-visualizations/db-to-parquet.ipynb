{
 "cells": [
  {
   "cell_type": "code",
   "execution_count": null,
   "id": "be161274",
   "metadata": {},
   "outputs": [],
   "source": [
    "import sqlite3\n",
    "import polars as pl"
   ]
  },
  {
   "cell_type": "code",
   "execution_count": null,
   "id": "cf582ea5",
   "metadata": {},
   "outputs": [],
   "source": [
    "conn = sqlite3.connect(\"data_log.db\")\n",
    "\n",
    "df = pl.read_database(\"SELECT * FROM data_log\", connection=conn)\n",
    "\n",
    "df.write_parquet(\"data_log.parquet\")"
   ]
  },
  {
   "cell_type": "code",
   "execution_count": null,
   "id": "5e77d689",
   "metadata": {},
   "outputs": [],
   "source": [
    "\n",
    "conn.close()"
   ]
  }
 ],
 "metadata": {
  "kernelspec": {
   "display_name": "Python 3",
   "language": "python",
   "name": "python3"
  },
  "language_info": {
   "name": "python",
   "version": "3.11.3"
  }
 },
 "nbformat": 4,
 "nbformat_minor": 5
}
