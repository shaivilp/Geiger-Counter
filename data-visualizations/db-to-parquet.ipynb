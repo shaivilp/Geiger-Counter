{
 "cells": [
  {
   "cell_type": "code",
   "execution_count": 1,
   "id": "be161274",
   "metadata": {},
   "outputs": [],
   "source": [
    "import sqlite3\n",
    "import polars as pl"
   ]
  },
  {
   "cell_type": "code",
   "execution_count": 2,
   "id": "cf582ea5",
   "metadata": {},
   "outputs": [],
   "source": [
    "conn = sqlite3.connect(\"./data/data_log.db\")\n",
    "\n",
    "df = pl.read_database(\"SELECT * FROM data_log\", connection=conn)\n",
    "\n",
    "df = df.with_columns(\n",
    "    (pl.col(\"temperature\") * 9 / 5 + 32).alias(\"temperature_f\")\n",
    ")\n",
    "\n",
    "df.write_parquet(\"./data/data_log.parquet\")"
   ]
  },
  {
   "cell_type": "code",
   "execution_count": 3,
   "id": "2c57f3ac",
   "metadata": {},
   "outputs": [
    {
     "data": {
      "text/html": [
       "<div><style>\n",
       ".dataframe > thead > tr,\n",
       ".dataframe > tbody > tr {\n",
       "  text-align: right;\n",
       "  white-space: pre-wrap;\n",
       "}\n",
       "</style>\n",
       "<small>shape: (11_834, 5)</small><table border=\"1\" class=\"dataframe\"><thead><tr><th>timestamp</th><th>temperature</th><th>pressure</th><th>humidity</th><th>temperature_f</th></tr><tr><td>str</td><td>f64</td><td>f64</td><td>f64</td><td>f64</td></tr></thead><tbody><tr><td>&quot;2025-05-03 14:35:52&quot;</td><td>13.32</td><td>985.147339</td><td>53.930664</td><td>55.975999</td></tr><tr><td>&quot;2025-05-03 14:35:55&quot;</td><td>13.3</td><td>985.078735</td><td>57.208984</td><td>55.94</td></tr><tr><td>&quot;2025-05-03 14:35:58&quot;</td><td>13.39</td><td>985.087952</td><td>57.338867</td><td>56.102001</td></tr><tr><td>&quot;2025-05-03 14:36:01&quot;</td><td>13.38</td><td>985.081665</td><td>57.023438</td><td>56.084</td></tr><tr><td>&quot;2025-05-03 14:36:04&quot;</td><td>13.42</td><td>985.080322</td><td>57.061523</td><td>56.156</td></tr><tr><td>&hellip;</td><td>&hellip;</td><td>&hellip;</td><td>&hellip;</td><td>&hellip;</td></tr><tr><td>&quot;2025-05-04 00:27:19&quot;</td><td>13.16</td><td>989.57782</td><td>53.347656</td><td>55.688</td></tr><tr><td>&quot;2025-05-04 00:27:22&quot;</td><td>13.16</td><td>989.579346</td><td>53.347656</td><td>55.688</td></tr><tr><td>&quot;2025-05-04 00:27:25&quot;</td><td>13.16</td><td>989.567017</td><td>53.379883</td><td>55.688</td></tr><tr><td>&quot;2025-05-04 00:27:28&quot;</td><td>13.15</td><td>989.576233</td><td>53.378906</td><td>55.669999</td></tr><tr><td>&quot;2025-05-04 00:27:31&quot;</td><td>13.14</td><td>989.619324</td><td>53.410156</td><td>55.652001</td></tr></tbody></table></div>"
      ],
      "text/plain": [
       "shape: (11_834, 5)\n",
       "┌─────────────────────┬─────────────┬────────────┬───────────┬───────────────┐\n",
       "│ timestamp           ┆ temperature ┆ pressure   ┆ humidity  ┆ temperature_f │\n",
       "│ ---                 ┆ ---         ┆ ---        ┆ ---       ┆ ---           │\n",
       "│ str                 ┆ f64         ┆ f64        ┆ f64       ┆ f64           │\n",
       "╞═════════════════════╪═════════════╪════════════╪═══════════╪═══════════════╡\n",
       "│ 2025-05-03 14:35:52 ┆ 13.32       ┆ 985.147339 ┆ 53.930664 ┆ 55.975999     │\n",
       "│ 2025-05-03 14:35:55 ┆ 13.3        ┆ 985.078735 ┆ 57.208984 ┆ 55.94         │\n",
       "│ 2025-05-03 14:35:58 ┆ 13.39       ┆ 985.087952 ┆ 57.338867 ┆ 56.102001     │\n",
       "│ 2025-05-03 14:36:01 ┆ 13.38       ┆ 985.081665 ┆ 57.023438 ┆ 56.084        │\n",
       "│ 2025-05-03 14:36:04 ┆ 13.42       ┆ 985.080322 ┆ 57.061523 ┆ 56.156        │\n",
       "│ …                   ┆ …           ┆ …          ┆ …         ┆ …             │\n",
       "│ 2025-05-04 00:27:19 ┆ 13.16       ┆ 989.57782  ┆ 53.347656 ┆ 55.688        │\n",
       "│ 2025-05-04 00:27:22 ┆ 13.16       ┆ 989.579346 ┆ 53.347656 ┆ 55.688        │\n",
       "│ 2025-05-04 00:27:25 ┆ 13.16       ┆ 989.567017 ┆ 53.379883 ┆ 55.688        │\n",
       "│ 2025-05-04 00:27:28 ┆ 13.15       ┆ 989.576233 ┆ 53.378906 ┆ 55.669999     │\n",
       "│ 2025-05-04 00:27:31 ┆ 13.14       ┆ 989.619324 ┆ 53.410156 ┆ 55.652001     │\n",
       "└─────────────────────┴─────────────┴────────────┴───────────┴───────────────┘"
      ]
     },
     "execution_count": 3,
     "metadata": {},
     "output_type": "execute_result"
    }
   ],
   "source": [
    "df"
   ]
  },
  {
   "cell_type": "code",
   "execution_count": 4,
   "id": "5e77d689",
   "metadata": {},
   "outputs": [],
   "source": [
    "\n",
    "conn.close()"
   ]
  }
 ],
 "metadata": {
  "kernelspec": {
   "display_name": "Python 3",
   "language": "python",
   "name": "python3"
  },
  "language_info": {
   "codemirror_mode": {
    "name": "ipython",
    "version": 3
   },
   "file_extension": ".py",
   "mimetype": "text/x-python",
   "name": "python",
   "nbconvert_exporter": "python",
   "pygments_lexer": "ipython3",
   "version": "3.11.3"
  }
 },
 "nbformat": 4,
 "nbformat_minor": 5
}
